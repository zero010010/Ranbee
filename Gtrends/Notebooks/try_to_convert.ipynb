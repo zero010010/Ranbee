{
 "cells": [
  {
   "cell_type": "markdown",
   "metadata": {},
   "source": [
    "1-make sure every data sample is a json \n",
    "\n",
    "2-get rid of the timestamp \n",
    "\n",
    "3-convert it to a csv "
   ]
  },
  {
   "cell_type": "code",
   "execution_count": 14,
   "metadata": {},
   "outputs": [],
   "source": [
    "import os\n",
    "import pandas as pd\n",
    "\n",
    "def convert_csv_to_json(directory):\n",
    "    # Check if the directory exists\n",
    "    if not os.path.exists(directory):\n",
    "        print(f\"Directory '{directory}' does not exist.\")\n",
    "        return\n",
    "    \n",
    "    # Iterate through files in the directory\n",
    "    for filename in os.listdir(directory):\n",
    "        if filename.endswith(\".csv\"):\n",
    "            # Read CSV file into DataFrame\n",
    "            filepath = os.path.join(directory, filename)\n",
    "            df = pd.read_csv(filepath)\n",
    "            \n",
    "            # Convert DataFrame to JSON\n",
    "            json_data = df.to_json(orient='records')\n",
    "            \n",
    "            # Write JSON data to file\n",
    "            json_filename = os.path.splitext(filename)[0] + \".json\"\n",
    "            json_filepath = os.path.join(directory, json_filename)\n",
    "            with open(json_filepath, 'w') as json_file:\n",
    "                json_file.write(json_data)\n",
    "            \n",
    "            print(f\"Converted '{filename}' to '{json_filename}'.\")\n",
    "\n",
    "# Specify the directory containing CSV files\n",
    "csv_directory = 'data'\n",
    "\n",
    "# Call the function to convert CSV files to JSON\n",
    "convert_csv_to_json(csv_directory)\n"
   ]
  }
 ],
 "metadata": {
  "kernelspec": {
   "display_name": "Python 3",
   "language": "python",
   "name": "python3"
  },
  "language_info": {
   "codemirror_mode": {
    "name": "ipython",
    "version": 3
   },
   "file_extension": ".py",
   "mimetype": "text/x-python",
   "name": "python",
   "nbconvert_exporter": "python",
   "pygments_lexer": "ipython3",
   "version": "3.10.0"
  }
 },
 "nbformat": 4,
 "nbformat_minor": 2
}
