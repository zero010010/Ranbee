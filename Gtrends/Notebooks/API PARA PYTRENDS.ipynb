{
 "cells": [
  {
   "cell_type": "markdown",
   "metadata": {},
   "source": [
    "# API para el uso de Pytrends \n"
   ]
  },
  {
   "cell_type": "markdown",
   "metadata": {},
   "source": [
    "estructura general "
   ]
  },
  {
   "cell_type": "code",
   "execution_count": 1,
   "metadata": {},
   "outputs": [],
   "source": [
    "from fastapi import FastAPI\n",
    "from pytrends.request import TrendReq\n",
    "import pandas as pd\n",
    "\n",
    "app = FastAPI()\n",
    "\n",
    "# Define a list of country codes \n",
    "COUNTRY_LIST = ['AT', 'BE', 'CH', 'CY', 'CZ', 'DE', 'DK', 'EE', 'GR', 'ES',\n",
    "                'FI', 'FR', 'HU', 'IE', 'IS', 'IT', 'LU', 'ME',\n",
    "                'MT', 'NL', 'NO', 'PL', 'PT', 'SE', 'SI', 'GB',\n",
    "                'LT', 'LV']\n",
    "\n",
    "def fetch_google_trends_data(category, countries=COUNTRY_LIST, start_date='2014-01-01', end_date='2024-03-31'):\n",
    "    pytrends = TrendReq(hl='es', tz=360)\n",
    "    trends_data = {}\n",
    "    for country in countries:\n",
    "        try:\n",
    "            pytrends.build_payload(kw_list=[category], timeframe=f'{start_date} {end_date}', geo=country)\n",
    "            data = pytrends.interest_over_time()\n",
    "            if data.empty:\n",
    "                raise ValueError(f\"No data available for the category and country '{country}'.\")\n",
    "            weekly_data = data.resample('W').mean()\n",
    "            trends_data[country] = weekly_data.to_dict()\n",
    "        except Exception as e:\n",
    "            print(f\"Error fetching Google Trends data for the country '{country}': {e}\")\n",
    "    return trends_data\n",
    "\n",
    "@app.get(\"/get-google-trends/{category}\")\n",
    "def get_google_trends(category: str, start_date: str = '2014-01-01', end_date: str = '2024-03-31'):\n",
    "    # Retrieve Google Trends data for the specified category or topic depends \n",
    "    trends_data = fetch_google_trends_data(category, COUNTRY_LIST, start_date, end_date)\n",
    "    return trends_data\n",
    "# also here we might need to convert it from a dict to csv \n",
    "# Convert 'datos' dictionary to a DataFrame\n",
    "df = pd.DataFrame.from_dict()\n",
    "\n",
    "# Convert the DataFrame to a CSV file\n",
    "df.to_csv('datos.csv', index=True)\n",
    "df\n",
    "\n",
    "\n",
    "def clean_dataframe(df: pd.DataFrame):\n",
    "    cleaned_df = df.dropna().drop_duplicates()\n",
    "    return cleaned_df\n",
    "\n",
    "#todavia no lo hemos comprobado \"/clean-google-trends-data/\"\n",
    "\n",
    "\n",
    "@app.get(\"/clean-google-trends-data/\")\n",
    "def clean_google_trends_data(category: str):\n",
    "    # Fetch Google Trends data\n",
    "    trends_data = fetch_google_trends_data(category)\n",
    "    # Convert to DataFrame\n",
    "    df = pd.DataFrame.from_dict(trends_data)\n",
    "    # Clean DataFrame\n",
    "    cleaned_df = clean_dataframe(df)\n",
    "    # Save cleaned data to CSV\n",
    "    cleaned_df.to_csv(f\"{category}_cleaned_data.csv\", index=True)\n",
    "    return {\"message\": f\"Data cleaned and saved successfully\"}\n",
    "\n"
   ]
  },
  {
   "cell_type": "markdown",
   "metadata": {},
   "source": [
    "une ejemplo de uso "
   ]
  },
  {
   "cell_type": "code",
   "execution_count": null,
   "metadata": {},
   "outputs": [],
   "source": [
    "from pytrends.request import TrendReq\n",
    "from fastapi import FastAPI\n",
    "import pandas as pd\n",
    "import time\n",
    "\n",
    "app = FastAPI()\n",
    "\n",
    "country_list = ['AT', 'BE', 'CH', 'CY','CZ' 'DE', 'DK', 'EE', 'GR', 'ES',\n",
    "       'FI', 'FR', 'HU', 'IE', 'IS', 'IT', 'LU', 'ME',\n",
    "       'MT', 'NL', 'NO', 'PL', 'PT', 'SE', 'SI','UK','GB',\n",
    "        'LT', 'LV']\n",
    "\n",
    "def obtener_datos_google_trends_semanal(palabra_clave, paises=country_list, fecha_inicio='2014-01-01', fecha_fin='2024-03-31'):\n",
    "    try:\n",
    "        pytrends = TrendReq(hl='es', tz=360)\n",
    "        trends_data = {}\n",
    "        for pais in paises:\n",
    "            try:\n",
    "                pytrends.build_payload(kw_list=[palabra_clave], timeframe=f'{fecha_inicio} {fecha_fin}', geo=pais)\n",
    "                data = pytrends.interest_over_time()\n",
    "                if data.empty:\n",
    "                    raise ValueError(f\"No hay datos disponibles para la palabra clave y país '{pais}'.\")\n",
    "                data_semanal = data.resample('W').mean()\n",
    "                trends_data[pais] = data_semanal.to_dict()\n",
    "            except Exception as e:\n",
    "                print(f\"Error al obtener datos de Google Trends para el país '{pais}': {e}\")\n",
    "                # Break off the loop if an error occurs for a country\n",
    "                break\n",
    "        return trends_data\n",
    "    except Exception as e:\n",
    "        print(f\"Error al obtener datos de Google Trends: {e}\")\n",
    "        time.sleep(60)\n",
    "        return obtener_datos_google_trends_semanal(palabra_clave, paises, fecha_inicio, fecha_fin)\n",
    "\n",
    "@app.get(\"/google-trends/{topic}\")\n",
    "def google_trends_handler(topic: str, fecha_inicio: str = '2014-01-01', fecha_fin: str = '2024-03-31'):\n",
    "    trends_data = obtener_datos_google_trends_semanal(topic, country_list, fecha_inicio, fecha_fin)\n",
    "    return trends_data\n",
    "\n",
    "\n",
    "palabra_clave = \"Unemployment benefits\"\n",
    "datos = obtener_datos_google_trends_semanal(palabra_clave)\n",
    "datos\n"
   ]
  }
 ],
 "metadata": {
  "kernelspec": {
   "display_name": "Python 3",
   "language": "python",
   "name": "python3"
  },
  "language_info": {
   "codemirror_mode": {
    "name": "ipython",
    "version": 3
   },
   "file_extension": ".py",
   "mimetype": "text/x-python",
   "name": "python",
   "nbconvert_exporter": "python",
   "pygments_lexer": "ipython3",
   "version": "3.9.2rc1"
  }
 },
 "nbformat": 4,
 "nbformat_minor": 2
}
